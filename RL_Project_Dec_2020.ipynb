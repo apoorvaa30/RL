{
  "nbformat": 4,
  "nbformat_minor": 0,
  "metadata": {
    "colab": {
      "name": "RL_Project_Dec 2020.ipynb",
      "provenance": [],
      "collapsed_sections": [],
      "authorship_tag": "ABX9TyPUr35HL9FniNkPf7DsUyJb",
      "include_colab_link": true
    },
    "kernelspec": {
      "display_name": "Python 3",
      "name": "python3"
    }
  },
  "cells": [
    {
      "cell_type": "markdown",
      "metadata": {
        "id": "view-in-github",
        "colab_type": "text"
      },
      "source": [
        "<a href=\"https://colab.research.google.com/github/apoorvaa30/RL/blob/main/RL_Project_Dec_2020.ipynb\" target=\"_parent\"><img src=\"https://colab.research.google.com/assets/colab-badge.svg\" alt=\"Open In Colab\"/></a>"
      ]
    },
    {
      "cell_type": "markdown",
      "metadata": {
        "id": "gs8nNGjwFDFg"
      },
      "source": [
        "**Project Title: Pricing American Options using Reinforcement Learning**"
      ]
    },
    {
      "cell_type": "markdown",
      "metadata": {
        "id": "i6KYnZfflTkQ"
      },
      "source": [
        "**Introduction:** \n",
        "\n",
        "An option is the right but not the obligation that the buyer/seller holds to buy/sell the underlying asset (let its price at exercise date t be S_t) specified in the option at some future date (option exercise or maturity date, t), at a pre-determined price (strike of the option, K). Let the contract entry date be t_0. \n",
        "\n",
        "Option can be of two main types:\n",
        "1. Put option: max(S_t - K, 0)\n",
        "2. Call option: max(K - S_t, 0)\n",
        "\n",
        "Other types of options are also available (cap, floor, collar, barrier, digital, etc.), however, we do not consider these for the purpose of this exercise.\n",
        "\n",
        "Based on the number of scheduled exercise dates as agreed upon in the option contract, options are found in the following flavours:\n",
        "1. European: one exercise date\n",
        "2. American: can be exercised on all dates between t_0 and t\n",
        "3. Bermudan: between European and American, number of exercises dates is more than 1 and less than (t-t_0)\n",
        "\n",
        "Pricing European options (whether put or call) is an analytically tractable problem, with various closed form models available. However, pricing American options is slightly more complex due to the computation cost involved. Based on the underlying option type, the problem of pricing American options becomes even more complex - eg: in case of barrier American options.\n",
        "\n",
        "In this document, we compare the price for American options obtained with current industry standard algorithms, versus reinforcement learning based approach as described in Li, Szepesvari, Schuurmans' paper [2]."
      ]
    },
    {
      "cell_type": "code",
      "metadata": {
        "id": "dZJ_Xkx_ks7T",
        "colab": {
          "base_uri": "https://localhost:8080/"
        },
        "outputId": "9f81b0db-afc6-46bc-d548-be6dac171fdf"
      },
      "source": [
        " \n",
        "try:\n",
        "  import QuantLib as ql \n",
        "except:\n",
        "  !pip install QuantLib-Python\n",
        "  import QuantLib as ql\n",
        "\n",
        "import pandas as pd\n",
        "import numpy as np\n",
        "import gym\n",
        "import matplotlib.pyplot as plt"
      ],
      "execution_count": null,
      "outputs": [
        {
          "output_type": "stream",
          "text": [
            "Collecting QuantLib-Python\n",
            "  Downloading https://files.pythonhosted.org/packages/7e/a9/4c6fac9c3c9b1625ab573531bbe9666d2f7cd6bc0a5eeb1f5792b947d9b2/QuantLib_Python-1.18-py2.py3-none-any.whl\n",
            "Collecting QuantLib\n",
            "\u001b[?25l  Downloading https://files.pythonhosted.org/packages/76/04/6f98281c2c85c7cf0b8394cf0112ddc32e4bd85f660e13b36af0f4863214/QuantLib-1.20-cp36-cp36m-manylinux1_x86_64.whl (18.8MB)\n",
            "\u001b[K     |████████████████████████████████| 18.8MB 47.1MB/s \n",
            "\u001b[?25hInstalling collected packages: QuantLib, QuantLib-Python\n",
            "Successfully installed QuantLib-1.20 QuantLib-Python-1.18\n"
          ],
          "name": "stdout"
        }
      ]
    },
    {
      "cell_type": "code",
      "metadata": {
        "id": "JfXg0R5dpMiL",
        "colab": {
          "base_uri": "https://localhost:8080/"
        },
        "outputId": "55184d17-9147-4c7e-9dfd-6bcbb37ac457"
      },
      "source": [
        "'''Creating american option'''\n",
        "\n",
        "# option parameters\n",
        "maturity = ql.Date(31, 12, 2021)\n",
        "\n",
        "S0 = 100\n",
        "K = 100\n",
        "r = 0.02\n",
        "sigma = 0.20\n",
        "d =  0.0\n",
        "\n",
        "dc = ql.Actual365Fixed() #day count convention for present value calculation\n",
        "calendar = ql.NullCalendar() #default business day calendar for interest accumulation\n",
        "\n",
        "today = ql.Date(1, 1, 2019)\n",
        "ql.Settings.instance().evaluationDate = today\n",
        "\n",
        "N = (maturity - today)//365 # option maturity in years, assuming days in years = 365\n",
        "print(N)"
      ],
      "execution_count": null,
      "outputs": [
        {
          "output_type": "stream",
          "text": [
            "3\n"
          ],
          "name": "stdout"
        }
      ]
    },
    {
      "cell_type": "code",
      "metadata": {
        "id": "GaP4pq0NppXc"
      },
      "source": [
        "# option type\n",
        "otype1 = ql.Option.Put\n",
        "otype2 = ql.Option.Call\n",
        "\n",
        "payoff = ql.PlainVanillaPayoff(otype1, K)\n",
        "#payoff = ql.PlainVanillaPayoff(otype2, K)"
      ],
      "execution_count": null,
      "outputs": []
    },
    {
      "cell_type": "code",
      "metadata": {
        "id": "nwLwMBMMqe91"
      },
      "source": [
        "# payoff with exercise flavour\n",
        "european_exercise = ql.EuropeanExercise(maturity)\n",
        "european_option = ql.VanillaOption(payoff, european_exercise)\n",
        "\n",
        "american_exercise = ql.AmericanExercise(today, maturity)\n",
        "american_option = ql.VanillaOption(payoff, american_exercise)"
      ],
      "execution_count": null,
      "outputs": []
    },
    {
      "cell_type": "code",
      "metadata": {
        "id": "XygKLH3CrLUL"
      },
      "source": [
        "#Discount factors, interest rate, vol\n",
        "#Case 1: constant/normal vol surface\n",
        "d_ts = ql.YieldTermStructureHandle(ql.FlatForward(today, d, dc))\n",
        "r_ts = ql.YieldTermStructureHandle(ql.FlatForward(today, r, dc))\n",
        "sigma_ts = ql.BlackVolTermStructureHandle(ql.BlackConstantVol(today, calendar, sigma, dc))\n",
        "bsm_process = ql.BlackScholesMertonProcess(ql.QuoteHandle(ql.SimpleQuote(S0)), d_ts, r_ts, sigma_ts)\n",
        "\n",
        "#Case 2: vol with smile\n",
        "# to do"
      ],
      "execution_count": null,
      "outputs": []
    },
    {
      "cell_type": "code",
      "metadata": {
        "id": "CAU7Y2ekrkVU"
      },
      "source": [
        "#Baseline output price from industry standard models for case 1 with put option\n",
        "pricing_dict = {}\n",
        "\n",
        "#1 Black Scholes model\n",
        "bsm73 = ql.AnalyticEuropeanEngine(bsm_process)\n",
        "european_option.setPricingEngine(bsm73)\n",
        "pricing_dict['BlackScholesEuropean'] = european_option.NPV()\n",
        "\n",
        "#2 Barone-Adesi Whaley Approximation model\n",
        "analytical_engine = ql.BaroneAdesiWhaleyApproximationEngine(bsm_process)\n",
        "american_option.setPricingEngine(analytical_engine)\n",
        "pricing_dict['BawApproximation'] = american_option.NPV()\n",
        "\n",
        "#3 Binomial Tree model\n",
        "binomial_engine = ql.BinomialVanillaEngine(bsm_process, \"crr\", 100)\n",
        "american_option.setPricingEngine(binomial_engine)\n",
        "pricing_dict['BinomialTree'] = american_option.NPV()\n",
        "\n",
        "#4 Black Scholes via Finite Difference methods\n",
        "fd_engine = ql.FdBlackScholesVanillaEngine(bsm_process)\n",
        "american_option.setPricingEngine(fd_engine)\n",
        "pricing_dict['FiniteDifference'] = american_option.NPV()"
      ],
      "execution_count": null,
      "outputs": []
    },
    {
      "cell_type": "code",
      "metadata": {
        "id": "wx0C6AmBRZqP"
      },
      "source": [
        "#5 Longstaff-Schwartz Least Squares Monte Carlo model\n",
        "# takes significant time to run at currently set params !!!\n",
        "\n",
        "trait = \"pseudorandom\" # \"lowdiscrepancy\"\n",
        "ls_engine = ql.MCAmericanEngine(bsm_process, trait, 10000, None, False, False, 1000, 0.02, 700000)\n",
        "american_option.setPricingEngine(ls_engine)\n",
        "pricing_dict['LongstaffSchwartz'] = american_option.NPV()"
      ],
      "execution_count": null,
      "outputs": []
    },
    {
      "cell_type": "code",
      "metadata": {
        "id": "Mia56jy2Wqmk",
        "colab": {
          "base_uri": "https://localhost:8080/"
        },
        "outputId": "aee0c7fd-5fb0-4063-d288-400f82ec568c"
      },
      "source": [
        "base_prices = pd.DataFrame.from_dict(pricing_dict, orient='index', columns=['Option_Price'] ) \n",
        "base_prices = base_prices.assign( Premium_wrt_European =  [x - pricing_dict['BlackScholesEuropean']  for x in pricing_dict.values()])\n",
        "\n",
        "print(pricing_dict)\n",
        "print(base_prices)"
      ],
      "execution_count": null,
      "outputs": [
        {
          "output_type": "stream",
          "text": [
            "{'BlackScholesEuropean': 10.63650220227224, 'BawApproximation': 11.29814768688012, 'BinomialTree': 11.261873670954653, 'FiniteDifference': 11.267101205311281}\n",
            "                      Option_Price  Premium_wrt_European\n",
            "BlackScholesEuropean     10.636502              0.000000\n",
            "BawApproximation         11.298148              0.661645\n",
            "BinomialTree             11.261874              0.625371\n",
            "FiniteDifference         11.267101              0.630599\n"
          ],
          "name": "stdout"
        }
      ]
    },
    {
      "cell_type": "code",
      "metadata": {
        "id": "--v5706T304C"
      },
      "source": [
        "'''Option Pricing Environment + Simulation Model for Stock Prices (GBM)'''\n",
        "\n",
        "# let max possible stock price be 1000, and min possible stock price be 0. Ideally, s_high should be taken to be np.inf\n",
        "s_high = 1000\n",
        "\n",
        "class AmeriOptionEnv(gym.Env):\n",
        "    def __init__(self):\n",
        "        self.S0 = S0 #100.0\n",
        "        self.K = K #100.0\n",
        "        self.r = r #0.02\n",
        "        self.sigma = sigma #0.20\n",
        "        self.T = 1.0\n",
        "        self.N = N*365    # here, N = option maturity in years, N*365 is number of days till maturity\n",
        "\n",
        "        self.S1 = 0\n",
        "        self.reward = 0\n",
        "        self.day_step = 0    # from day 0 taking N steps to day N*365\n",
        "\n",
        "        self.action_space = gym.spaces.Discrete(2)         # 0: hold, 1:exercise\n",
        "        self.observation_space = gym.spaces.Box(low=np.array([0, 0]), high=np.array([s_high, N]), dtype=np.float32)      # S in [0, inf], tao in [0, N]\n",
        "\n",
        "    def step(self, action):\n",
        "        if action == 1:        # exercise\n",
        "            reward = max(K-self.S1, 0.0) * np.exp(-self.r * self.T * (self.day_step/self.N))\n",
        "            done = True\n",
        "        else:       # hold\n",
        "            if self.day_step == self.N:    # at maturity\n",
        "                reward = max(self.K-self.S1, 0.0) * np.exp(-self.r * self.T)\n",
        "                done = True\n",
        "            else: # move to tomorrow\n",
        "                reward = 0\n",
        "                self.S1 = self.S1 * np.exp((self.r - 0.5 * self.sigma**2) * (self.T/self.N) + self.sigma * np.sqrt(self.T/self.N) * np.random.normal())\n",
        "                self.day_step += 1\n",
        "                done = False\n",
        "\n",
        "        tao = 1.0-self.day_step/self.N        # time to maturity, in unit of years\n",
        "        return np.array([self.S1, tao]), reward, done, {}\n",
        "\n",
        "    def reset(self):\n",
        "        self.day_step = 0\n",
        "        self.S1 = self.S0\n",
        "        tao = 1.0-self.day_step/self.N        # time to maturity, in unit of years\n",
        "        return [self.S1, tao]\n",
        "    \n",
        "    def render(self):\n",
        "        \"\"\"\n",
        "        make video\n",
        "        \"\"\"\n",
        "        pass\n",
        "\n",
        "    def close(self):\n",
        "        pass"
      ],
      "execution_count": null,
      "outputs": []
    },
    {
      "cell_type": "code",
      "metadata": {
        "id": "iHSSItM84FMd",
        "colab": {
          "base_uri": "https://localhost:8080/",
          "height": 330
        },
        "outputId": "c7339515-5d24-487f-9431-4939f4d07d2b"
      },
      "source": [
        "# Plot stock prices using the environment created above\n",
        "\n",
        "env = AmeriOptionEnv()\n",
        "s = env.reset()\n",
        "\n",
        "sim_prices = []\n",
        "sim_prices.append(s[0])\n",
        "for i in range(365*N):\n",
        "  action = 0\n",
        "  s_next, reward, done, info = env.step(action)\n",
        "  sim_prices.append(s_next[0])\n",
        "\n",
        "plt.xlabel('Date')\n",
        "plt.ylabel('Stock Price')\n",
        "plt.plot(sim_prices)"
      ],
      "execution_count": null,
      "outputs": [
        {
          "output_type": "stream",
          "text": [
            "/usr/local/lib/python3.6/dist-packages/gym/logger.py:30: UserWarning: \u001b[33mWARN: Box bound precision lowered by casting to float32\u001b[0m\n",
            "  warnings.warn(colorize('%s: %s'%('WARN', msg % args), 'yellow'))\n"
          ],
          "name": "stderr"
        },
        {
          "output_type": "execute_result",
          "data": {
            "text/plain": [
              "[<matplotlib.lines.Line2D at 0x7f01e37e03c8>]"
            ]
          },
          "metadata": {
            "tags": []
          },
          "execution_count": 32
        },
        {
          "output_type": "display_data",
          "data": {
            "image/png": "[encoded data removed]",
            "text/plain": [
              "<Figure size 432x288 with 1 Axes>"
            ]
          },
          "metadata": {
            "tags": [],
            "needs_background": "light"
          }
        }
      ]
    },
    {
      "cell_type": "markdown",
      "metadata": {
        "id": "G00MgALGARQC"
      },
      "source": [
        "**Problem formulation under Least Square Policy Iteration:**\r\n",
        "\r\n",
        "SP = simulation paths of underlying security process SP[i,j] - price at j, for given path i\r\n",
        "\r\n",
        "CF = PV of current + future cash flow, for each path i\r\n",
        "\r\n",
        "states[i,j] = [tau[j], SP[i, :(j+1)]] = current time + price history, for given path i\r\n",
        "\r\n",
        "payoff[i,j] = put on SP\r\n",
        "\r\n",
        "r = 7, based on feature function chosen\r\n",
        "\r\n",
        "phi (0 to r-1) = feature functions of states[i,j]\r\n",
        "\r\n",
        "weight (0 to r-1) = regression weights\r\n",
        "\r\n",
        "regression function f(payoff[i,j]) = wT*phi(payoff[i,j])\r\n",
        "\r\n",
        "f(.) = estimate of continuation value for in the money states\r\n",
        "\r\n",
        "state = [current time, underlying security prices history] = same as above, is a tuple\r\n",
        "\r\n",
        "action = exercise or continue (1, 0)\r\n",
        "\r\n",
        "reward = 0 on continue, payoff value on exercise\r\n"
      ]
    },
    {
      "cell_type": "code",
      "metadata": {
        "id": "H4P9ZljiYtj2"
      },
      "source": [
        "#@title Hyperparameters\n",
        "m = 10000 #@param {type:\"integer\"} #Monte Carlo paths\n",
        "batch_size = 500 #@param {type:\"integer\"}\n",
        "\n",
        "n = N*365 #timesteps, number of days\n",
        "matrix_size = 7 #based on feature function used\n",
        "\n",
        "\n"
      ],
      "execution_count": null,
      "outputs": []
    },
    {
      "cell_type": "code",
      "metadata": {
        "colab": {
          "base_uri": "https://localhost:8080/"
        },
        "id": "aPfpj5ibLhfh",
        "outputId": "5b00a16a-1e19-4081-ff7e-6261ed09ee83"
      },
      "source": [
        "# Simulate stock price paths - m*n matrix\n",
        "\n",
        "env = AmeriOptionEnv()\n",
        "s = env.reset()\n",
        "SP = list()\n",
        "t = list()\n",
        "for i in range(5000):\n",
        "  sim_prices = []\n",
        "  sim_times = []\n",
        "  sim_prices.append(s[0])\n",
        "  sim_times.append(s[1])\n",
        "  for j in range(n):\n",
        "    action = 0\n",
        "    s_next, reward, done, info = env.step(action)\n",
        "    sim_prices.append(s_next[0])\n",
        "    sim_times.append(s_next[1])\n",
        "  SP.append(sim_prices)\n",
        "  t.append(sim_times)\n",
        "\n",
        "def american_payoff(S1, T):\n",
        "  S1 = S1 * np.exp((r - 0.5 * sigma**2) * (T/N) + sigma * np.sqrt(T/N) * np.random.normal())\n",
        "  return S1"
      ],
      "execution_count": null,
      "outputs": [
        {
          "output_type": "stream",
          "text": [
            "/usr/local/lib/python3.6/dist-packages/gym/logger.py:30: UserWarning: \u001b[33mWARN: Box bound precision lowered by casting to float32\u001b[0m\n",
            "  warnings.warn(colorize('%s: %s'%('WARN', msg % args), 'yellow'))\n"
          ],
          "name": "stderr"
        }
      ]
    },
    {
      "cell_type": "code",
      "metadata": {
        "id": "gXo21ehxptG9"
      },
      "source": [
        "def phi_S(sp):\n",
        "  '''Laguerre polynomials used here for SP[i, :j+1]'''\n",
        "  S_div = sp/K\n",
        "  phi = np.zeros(shape = 4)\n",
        "  phi[0] =  1 \n",
        "  phi[1] = ( np.exp(-np.power(S_div,2) ) )\n",
        "  phi[2] = ( phi[1]*(1-S_div) )\n",
        "  phi[3] = ( phi[1]*( 1 - 2*S_div + (np.power(S_div,2)/2 ) ) )\n",
        "  return phi\n",
        "\n",
        "def phi_T(j):\n",
        "  '''Laguerre polynomials used here for t[j]'''\n",
        "  phi = np.zeros(shape = 3)\n",
        "  T = N\n",
        "  phi[0]= ( np.sin( ( np.pi*(T-j) )/(2*T) ) )\n",
        "  phi[1]= ( np.log( (T-j) ) )\n",
        "  phi[2]= ( np.power( (j/T), 2 ) )\n",
        "  return phi"
      ],
      "execution_count": null,
      "outputs": []
    },
    {
      "cell_type": "code",
      "metadata": {
        "id": "XPcUA56rN86h"
      },
      "source": [
        "'''Reinforcement Learning Algorithm Implementation'''\n",
        "# LSPI\n",
        "\n",
        "def LSPIAmericanPricing(env, SP, MC_paths, time_steps, batch_size):\n",
        "  A = np.zeros(shape = (matrix_size, matrix_size))\n",
        "  B = np.zeros(shape = matrix_size)\n",
        "  w = np.zeros(shape = matrix_size)\n",
        "\n",
        "  all_rewards = []\n",
        "  avg_reward = 0\n",
        "  rewards = []\n",
        "\n",
        "  # Algorithm\n",
        "  for i in range(0,MC_paths):\n",
        "    for j in range(0,time_steps):\n",
        "      sp = SP[i][j]\n",
        "      sp_next = SP[i][(j+1)]\n",
        "\n",
        "      Q = american_payoff(sp_next, j+1)\n",
        "\n",
        "      ps = phi_S(sp) \n",
        "      pt = phi_T(j-1)\n",
        "      phi_sp = np.concatenate((ps, pt), axis = 0)\n",
        "      ps1 = phi_S(sp_next)\n",
        "      pt1 = phi_T(j)\n",
        "      phi_sp_next = np.concatenate((ps1, pt1), axis = 0)\n",
        "\n",
        "      # print(w.T)\n",
        "      # print(phi_sp_next)\n",
        "      if j < n-1 and Q <= np.matmul( np.matrix(w), np.matrix(phi_sp_next).T ) :\n",
        "        P = phi_sp_next\n",
        "      else:\n",
        "        P = np.zeros(7)\n",
        "      if Q > np.matmul( np.matrix(w), np.matrix(P).T ):\n",
        "        R = Q\n",
        "      else:\n",
        "        R = 0\n",
        "      tx = t[i][j]\n",
        "      ty = t[i][j+1]\n",
        "      \n",
        "      z = -r*(ty-tx)\n",
        "      \n",
        "      x = np.array(np.exp(z)*P.T)\n",
        "      c = np.array(phi_sp)\n",
        "      y = list( c-x)\n",
        "      \n",
        "      A = A + np.matmul( phi_sp, list( y ) )\n",
        "      B = B + np.exp(-r*(ty-tx))*(R*phi_sp)\n",
        "      rewards.append(R)\n",
        "\n",
        "    if (i+1)%batch_size == 0: # for all batches of given MC path\n",
        "      try:\n",
        "        w = numpy.linalg.inv(A)*B\n",
        "      except:\n",
        "        pass\n",
        "    avg_reward = np.mean(rewards)\n",
        "    rewards = []\n",
        "    if (i+1) == MC_paths: #collect batch rewards series for all MC paths\n",
        "      all_rewards.append(avg_reward)\n",
        "      avg_reward = []\n",
        "    \n",
        "    A = np.zeros(shape = (matrix_size, matrix_size))\n",
        "    B = np.zeros(shape = matrix_size) \n",
        "    \n",
        "    \n",
        "    env.reset()\n",
        "\n",
        "  return Q, R, all_rewards"
      ],
      "execution_count": null,
      "outputs": []
    },
    {
      "cell_type": "code",
      "metadata": {
        "colab": {
          "base_uri": "https://localhost:8080/"
        },
        "id": "tfylnh_Kmls0",
        "outputId": "b2de512a-9294-496e-8dc6-0650aaa5e304"
      },
      "source": [
        "Q, R, all_rewards = LSPIAmericanPricing(env, SP, MC_paths=m, time_steps=n, batch_size=1)\n",
        "print(Q)\n",
        "print(R)"
      ],
      "execution_count": null,
      "outputs": [
        {
          "output_type": "stream",
          "text": [
            "/usr/local/lib/python3.6/dist-packages/ipykernel_launcher.py:16: RuntimeWarning: divide by zero encountered in log\n",
            "  app.launch_new_instance()\n",
            "/usr/local/lib/python3.6/dist-packages/ipykernel_launcher.py:29: RuntimeWarning: invalid value encountered in matmul\n",
            "/usr/local/lib/python3.6/dist-packages/ipykernel_launcher.py:16: RuntimeWarning: invalid value encountered in log\n",
            "  app.launch_new_instance()\n"
          ],
          "name": "stderr"
        },
        {
          "output_type": "stream",
          "text": [
            "232.690796968207\n",
            "232.690796968207\n"
          ],
          "name": "stdout"
        }
      ]
    },
    {
      "cell_type": "code",
      "metadata": {
        "id": "T7xTdABGDxgv"
      },
      "source": [
        "pricing_dict['LSPIAmerican'] = Q\r\n",
        "base_prices = pd.DataFrame.from_dict(pricing_dict, orient='index', columns=['Option_Price'] ) \r\n",
        "base_prices = base_prices.assign( Premium_wrt_European =  [x - pricing_dict['BlackScholesEuropean']  for x in pricing_dict.values()])\r\n",
        "\r\n",
        "print(pricing_dict)\r\n",
        "print(base_prices)"
      ],
      "execution_count": null,
      "outputs": []
    },
    {
      "cell_type": "markdown",
      "metadata": {
        "id": "pseqwWcRDwFA"
      },
      "source": [
        "**Key Takeaways:**\r\n",
        "\r\n",
        "Given reasonable compute and number of MC paths, the Longstaff-Schwartz and the LSPI are expected to give similar results\r\n"
      ]
    },
    {
      "cell_type": "markdown",
      "metadata": {
        "id": "e8Thw0TZ5J28"
      },
      "source": [
        "**Further Directions:**\n",
        "\n",
        "The exercise above can be improved in the following ways:\n",
        "1. Implement for other option types, like barriers\n",
        "2. Implement for non-constant vol surface with smile\n",
        "3. Derive greeks from reinforcement learning based implementation. Sensitivity of option price to various input processes is relatively straightforward to obtain using classical option pricing methods. This is not the case for Reinforcement Learning based approaches, where computing greeks via bruteforce may incur significant compute resources."
      ]
    },
    {
      "cell_type": "markdown",
      "metadata": {
        "id": "oIao3nfRnoHw"
      },
      "source": [
        "**References:**\n",
        "\n",
        "Option Pricing Theory:\n",
        "1. Pricing American Options with Reinforcement Learning, Ashwin Rao (http://web.stanford.edu/class/cme241/lecture_slides/AmericanOptionsRL.pdf)\n",
        "2. Learning Exercise Policies for American Options, Yuxi Li et al (http://proceedings.mlr.press/v5/li09d/li09d.pdf)\n",
        "3. Stochastic Calculus, Volume II, Steven Shreve\n",
        "4. Mathematical Finance, Mark Joshi\n",
        "\n",
        "Python Implementation:\n",
        "4. Quantlib for option pricing (section 1 above): American Option Pricing with QuantLib and Python, Goutham Balaraman (http://gouthamanbalaraman.com/blog/american-option-pricing-quantlib-python.html)\n",
        "5. Gym Environment set-up (section 2 above): Option Pricing using Reinforcement Learning, Letian Wang (https://letianzj.github.io/)\n",
        "6. Q-Learning in Python (https://www.learndatasci.com/tutorials/reinforcement-q-learning-scratch-python-openai-gym/ ; https://towardsdatascience.com/getting-started-with-reinforcement-learning-and-open-ai-gym-c289aca874f)"
      ]
    }
  ]
}